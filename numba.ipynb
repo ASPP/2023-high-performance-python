{
 "cells": [
  {
   "cell_type": "code",
   "execution_count": null,
   "metadata": {
    "ExecuteTime": {
     "end_time": "2023-06-29T18:03:08.388887Z",
     "start_time": "2023-06-29T18:03:08.384248Z"
    },
    "slideshow": {
     "slide_type": "skip"
    }
   },
   "outputs": [],
   "source": [
    "import time\n",
    "import matplotlib.pyplot as plt"
   ]
  },
  {
   "cell_type": "markdown",
   "metadata": {
    "slideshow": {
     "slide_type": "slide"
    }
   },
   "source": [
    "## Numba"
   ]
  },
  {
   "cell_type": "markdown",
   "metadata": {},
   "source": [
    " You have some code... you want to make it run fast "
   ]
  },
  {
   "cell_type": "markdown",
   "metadata": {
    "slideshow": {
     "slide_type": "slide"
    }
   },
   "source": [
    "### Why do we use Python?"
   ]
  },
  {
   "cell_type": "markdown",
   "metadata": {
    "slideshow": {
     "slide_type": "fragment"
    }
   },
   "source": [
    "+ Readability and simplicity\n",
    "+ Rapid development and protyping\n",
    "+ Rich ecosystem of libraries and frameworks\n",
    "+ Large and helpful community"
   ]
  },
  {
   "cell_type": "markdown",
   "metadata": {
    "slideshow": {
     "slide_type": "slide"
    }
   },
   "source": [
    "### What are we missing?"
   ]
  },
  {
   "cell_type": "markdown",
   "metadata": {
    "slideshow": {
     "slide_type": "fragment"
    }
   },
   "source": [
    "+ Speed?"
   ]
  },
  {
   "cell_type": "markdown",
   "metadata": {
    "slideshow": {
     "slide_type": "slide"
    }
   },
   "source": [
    "## Compiled code vs Interpreted Code"
   ]
  },
  {
   "cell_type": "markdown",
   "metadata": {},
   "source": [
    "![](figures/program_life.png)"
   ]
  },
  {
   "cell_type": "markdown",
   "metadata": {},
   "source": [
    "![](figures/program_life_python.png)"
   ]
  },
  {
   "cell_type": "markdown",
   "metadata": {},
   "source": [
    "![](figures/program_life_compiler.png)"
   ]
  },
  {
   "cell_type": "markdown",
   "metadata": {
    "slideshow": {
     "slide_type": "slide"
    }
   },
   "source": [
    "## How Numba works"
   ]
  },
  {
   "cell_type": "code",
   "execution_count": 14,
   "metadata": {
    "ExecuteTime": {
     "end_time": "2023-06-29T17:58:34.458150Z",
     "start_time": "2023-06-29T17:58:34.453193Z"
    },
    "slideshow": {
     "slide_type": "slide"
    }
   },
   "outputs": [],
   "source": [
    "import numpy as np\n",
    "import numba\n",
    "import time"
   ]
  },
  {
   "cell_type": "code",
   "execution_count": 5,
   "metadata": {
    "ExecuteTime": {
     "end_time": "2023-06-29T17:59:47.747360Z",
     "start_time": "2023-06-29T17:59:47.741466Z"
    }
   },
   "outputs": [],
   "source": [
    "def integrate(a, b, n):\n",
    "    s = 0.0\n",
    "    dx = (b - a) / n\n",
    "    for i in range(n):\n",
    "        x = a + (i + 0.5) * dx\n",
    "        y = x ** 4 - 3 * x\n",
    "        s += y * dx\n",
    "    return s"
   ]
  },
  {
   "cell_type": "code",
   "execution_count": 6,
   "metadata": {
    "ExecuteTime": {
     "end_time": "2023-06-29T18:00:16.431958Z",
     "start_time": "2023-06-29T18:00:16.425824Z"
    },
    "slideshow": {
     "slide_type": "slide"
    }
   },
   "outputs": [],
   "source": [
    "a = 0\n",
    "b = 2\n",
    "n = 1_000_000"
   ]
  },
  {
   "cell_type": "code",
   "execution_count": 7,
   "metadata": {
    "ExecuteTime": {
     "end_time": "2023-06-29T18:00:19.631024Z",
     "start_time": "2023-06-29T18:00:16.776799Z"
    }
   },
   "outputs": [
    {
     "name": "stdout",
     "output_type": "stream",
     "text": [
      "137 ms ± 1.34 ms per loop (mean ± std. dev. of 7 runs, 10 loops each)\n"
     ]
    }
   ],
   "source": [
    "plaintime = %timeit -o integrate(a, b, n)"
   ]
  },
  {
   "cell_type": "code",
   "execution_count": 8,
   "metadata": {
    "ExecuteTime": {
     "end_time": "2023-06-29T18:00:23.087734Z",
     "start_time": "2023-06-29T18:00:23.081506Z"
    },
    "slideshow": {
     "slide_type": "slide"
    }
   },
   "outputs": [],
   "source": [
    "#Add Numba decorator here\n",
    "@numba.njit \n",
    "def numba_integrate(a, b, n):\n",
    "    s = 0.0\n",
    "    dx = (b - a) / n\n",
    "    for i in range(n):\n",
    "        x = a + (i + 0.5) * dx\n",
    "        y = x ** 4 - 3 * x\n",
    "        s += y * dx\n",
    "    return s\n",
    "\n",
    "#now the decorated function will run entirely without \n",
    "#the involvement of the Python interpreter."
   ]
  },
  {
   "cell_type": "code",
   "execution_count": 9,
   "metadata": {
    "ExecuteTime": {
     "end_time": "2023-06-29T18:00:23.819795Z",
     "start_time": "2023-06-29T18:00:23.552980Z"
    }
   },
   "outputs": [
    {
     "name": "stdout",
     "output_type": "stream",
     "text": [
      "The slowest run took 27.00 times longer than the fastest. This could mean that an intermediate result is being cached.\n",
      "5.22 ms ± 10 ms per loop (mean ± std. dev. of 7 runs, 10 loops each)\n"
     ]
    }
   ],
   "source": [
    "jittedtime = %timeit -o -n 10 numba_integrate(a, b, n)"
   ]
  },
  {
   "cell_type": "code",
   "execution_count": 10,
   "metadata": {
    "ExecuteTime": {
     "end_time": "2023-06-29T17:59:55.946936Z",
     "start_time": "2023-06-29T17:59:55.555772Z"
    },
    "slideshow": {
     "slide_type": "fragment"
    }
   },
   "outputs": [],
   "source": [
    "np.testing.assert_almost_equal(numba_integrate(a, b, n), integrate(a, b, n))"
   ]
  },
  {
   "cell_type": "code",
   "execution_count": 11,
   "metadata": {
    "ExecuteTime": {
     "end_time": "2023-06-29T17:59:55.963343Z",
     "start_time": "2023-06-29T17:59:55.950152Z"
    },
    "slideshow": {
     "slide_type": "fragment"
    }
   },
   "outputs": [
    {
     "data": {
      "text/plain": [
       "122.55723884423224"
      ]
     },
     "execution_count": 11,
     "metadata": {},
     "output_type": "execute_result"
    }
   ],
   "source": [
    "plaintime.best/jittedtime.best"
   ]
  },
  {
   "cell_type": "markdown",
   "metadata": {
    "slideshow": {
     "slide_type": "slide"
    }
   },
   "source": [
    "<font size = 6>Why is there a slow run? </font>\n",
    "\n",
    "Numba has to compile your function for the argument types given before it executes the machine code version of your function. This takes time. \n",
    "\n",
    "However, once the compilation has taken place Numba caches the machine code version of your function for the particular types of datatypes presented. \n",
    "\n",
    "If it is called again, it can reuse the cached version, if it sees the same datatypes, instead of having to compile again."
   ]
  },
  {
   "cell_type": "code",
   "execution_count": 22,
   "metadata": {
    "ExecuteTime": {
     "end_time": "2023-06-29T18:01:08.142000Z",
     "start_time": "2023-06-29T18:01:07.600523Z"
    },
    "slideshow": {
     "slide_type": "fragment"
    }
   },
   "outputs": [
    {
     "name": "stdout",
     "output_type": "stream",
     "text": [
      "Elapsed (with compilation) = 0.058 s\n",
      "Elapsed (cached)           = 0.001 s\n",
      "Elapsed (cached)           = 0.001 s\n",
      "Elapsed (cached)           = 0.001 s\n",
      "Elapsed (cached)           = 0.001 s\n",
      "Elapsed (cached)           = 0.001 s\n",
      "Elapsed (python code)      = 0.133 s\n"
     ]
    }
   ],
   "source": [
    "@numba.njit\n",
    "def numba_integrate(a, b, n):\n",
    "    s = 0.0\n",
    "    dx = (b - a) / n\n",
    "    for i in range(n):\n",
    "        x = a + (i + 0.5) * dx\n",
    "        y = x ** 4 - 3 * x\n",
    "        s += y * dx\n",
    "    return s          \n",
    "\n",
    "# COMPILATION TIME!\n",
    "start = time.perf_counter()\n",
    "numba_integrate(a, b, n)\n",
    "end = time.perf_counter()\n",
    "print(f\"Elapsed (with compilation) = {end - start:.3f} s\")\n",
    "\n",
    "# NOW THE FUNCTION IS COMPILED, RE-TIME IT EXECUTING FROM CACHE\n",
    "for i in range(5):\n",
    "    start = time.perf_counter()\n",
    "    numba_integrate(a, b, n)\n",
    "    end = time.perf_counter()\n",
    "    print(f\"Elapsed (cached)           = {end - start:.3f} s\")\n",
    "\n",
    "#Original function\n",
    "start = time.perf_counter()\n",
    "numba_integrate.py_func(a, b, n)\n",
    "end = time.perf_counter()\n",
    "print(f\"Elapsed (python code)      = {end - start:.3f} s\")"
   ]
  },
  {
   "cell_type": "code",
   "execution_count": 28,
   "metadata": {
    "ExecuteTime": {
     "end_time": "2023-06-29T18:01:10.031279Z",
     "start_time": "2023-06-29T18:01:10.024157Z"
    },
    "slideshow": {
     "slide_type": "slide"
    }
   },
   "outputs": [
    {
     "data": {
      "text/plain": [
       "[(int64, int64, int64), (float64, float64, int64), (float64, float64, float64)]"
      ]
     },
     "execution_count": 28,
     "metadata": {},
     "output_type": "execute_result"
    }
   ],
   "source": [
    "numba_integrate.signatures"
   ]
  },
  {
   "cell_type": "code",
   "execution_count": 27,
   "metadata": {
    "ExecuteTime": {
     "end_time": "2023-06-29T18:01:14.719680Z",
     "start_time": "2023-06-29T18:01:14.703708Z"
    }
   },
   "outputs": [
    {
     "data": {
      "text/plain": [
       "0.3999999999947188"
      ]
     },
     "execution_count": 27,
     "metadata": {},
     "output_type": "execute_result"
    }
   ],
   "source": [
    "numba_integrate(0.0, 2.0, 1_000_000.)"
   ]
  },
  {
   "cell_type": "markdown",
   "metadata": {
    "slideshow": {
     "slide_type": "slide"
    }
   },
   "source": [
    "## What can you use numba on?\n",
    "\n",
    "If your code is numerically orientated (does a lot of math), uses NumPy a lot and/or has a lot of loops, then Numba is often a good choice.\n",
    "\n",
    "* Functions with loops\n",
    "* Functions with mathematical operations\n",
    "* Functions using numpy\n",
    "\n",
    "***OK***: tuples, strings\n",
    "\n",
    "***Not good***: objects, Python lists, python dicts"
   ]
  },
  {
   "cell_type": "markdown",
   "metadata": {
    "slideshow": {
     "slide_type": "slide"
    }
   },
   "source": [
    "<font size=8> **Hands on exercise** <font>"
   ]
  },
  {
   "cell_type": "markdown",
   "metadata": {},
   "source": [
    "Function ```estimate_pi``` calculates the value of $pi$\n",
    "\n",
    "Notice that the greater the value of n, the better is the estimate of $pi$\n",
    "\n",
    "You task is to:\n",
    "+ Use time or timeit to benchmark the speed up in execution of the function for different *n* with and without numba\n",
    "+ Plot the difference in time for different *n* with and without numba \n",
    "\n",
    "**(Ensure that the numba function is compiled before timing the function)**"
   ]
  },
  {
   "cell_type": "code",
   "execution_count": 34,
   "metadata": {
    "ExecuteTime": {
     "end_time": "2023-06-29T17:54:24.101663Z",
     "start_time": "2023-06-29T17:54:24.074656Z"
    },
    "slideshow": {
     "slide_type": "-"
    }
   },
   "outputs": [],
   "source": [
    "#This function takes n as input which is the number of total points within the square\n",
    "#It then estimates how many of those points are within the circle\n",
    "# value of pi = 4 * numberofpointsincircle/numberofpointsinsquare\n",
    "\n",
    "def estimate_pi(n):\n",
    "    np.random.seed(1234)\n",
    "    count_inside_circle = 0\n",
    "    for _ in range(n): # Numba likes loops and numpy functions\n",
    "        x, y  = [np.random.uniform(-1, 1),\n",
    "                 np.random.uniform(-1, 1)]\n",
    "        \n",
    "        if x**2 + y**2 <= 1:\n",
    "            count_inside_circle += 1\n",
    "    \n",
    "    pi_estimate = 4 * count_inside_circle / n #Numba likes math\n",
    "    return pi_estimate"
   ]
  },
  {
   "cell_type": "code",
   "execution_count": 35,
   "metadata": {},
   "outputs": [
    {
     "name": "stdout",
     "output_type": "stream",
     "text": [
      "3.24 s ± 54.2 ms per loop (mean ± std. dev. of 7 runs, 1 loop each)\n"
     ]
    }
   ],
   "source": [
    "%timeit estimate_pi(1_000_000)"
   ]
  },
  {
   "cell_type": "code",
   "execution_count": 30,
   "metadata": {
    "ExecuteTime": {
     "end_time": "2023-06-29T17:54:38.680486Z",
     "start_time": "2023-06-29T17:54:24.109212Z"
    },
    "slideshow": {
     "slide_type": "slide"
    }
   },
   "outputs": [
    {
     "name": "stdout",
     "output_type": "stream",
     "text": [
      "Number of runs 10, Estimated Pi: 3.60\n",
      "Number of runs 1000, Estimated Pi: 3.06\n",
      "Number of runs 10000, Estimated Pi: 3.12\n",
      "Number of runs 100000, Estimated Pi: 3.14\n",
      "Number of runs 1000000, Estimated Pi: 3.14\n"
     ]
    }
   ],
   "source": [
    "n = [10, 1000, 10000, 100_000, 1_000_000]\n",
    "for i in n:\n",
    "    pi_estimate = estimate_pi(i)\n",
    "    print(\"Number of runs %d, Estimated Pi: %0.2f\" %(i, pi_estimate))"
   ]
  },
  {
   "cell_type": "code",
   "execution_count": null,
   "metadata": {
    "ExecuteTime": {
     "end_time": "2023-06-29T17:54:54.086704Z",
     "start_time": "2023-06-29T17:54:54.081905Z"
    }
   },
   "outputs": [],
   "source": [
    "## Your code here"
   ]
  },
  {
   "cell_type": "code",
   "execution_count": 38,
   "metadata": {},
   "outputs": [],
   "source": [
    "@numba.njit\n",
    "def estimate_pi(n):\n",
    "    np.random.seed(1234)\n",
    "    count_inside_circle = 0\n",
    "    for _ in range(n): # Numba likes loops and numpy functions\n",
    "        x = np.random.uniform(-1, 1)\n",
    "        y = np.random.uniform(-1, 1)\n",
    "        \n",
    "        if x**2 + y**2 <= 1:\n",
    "            count_inside_circle += 1\n",
    "    \n",
    "    pi_estimate = 4 * count_inside_circle / n #Numba likes math\n",
    "    return pi_estimate"
   ]
  },
  {
   "cell_type": "code",
   "execution_count": 33,
   "metadata": {
    "ExecuteTime": {
     "end_time": "2023-06-29T17:54:38.680486Z",
     "start_time": "2023-06-29T17:54:24.109212Z"
    },
    "slideshow": {
     "slide_type": "slide"
    }
   },
   "outputs": [
    {
     "name": "stdout",
     "output_type": "stream",
     "text": [
      "Number of runs 10, Estimated Pi: 3.60\n",
      "Number of runs 1000, Estimated Pi: 3.06\n",
      "Number of runs 10000, Estimated Pi: 3.12\n",
      "Number of runs 100000, Estimated Pi: 3.14\n",
      "Number of runs 1000000, Estimated Pi: 3.14\n"
     ]
    }
   ],
   "source": [
    "n = [10, 1000, 10000, 100_000, 1_000_000]\n",
    "for i in n:\n",
    "    pi_estimate = estimate_pi(i)\n",
    "    print(\"Number of runs %d, Estimated Pi: %0.2f\" %(i, pi_estimate))"
   ]
  },
  {
   "cell_type": "code",
   "execution_count": 39,
   "metadata": {},
   "outputs": [
    {
     "name": "stdout",
     "output_type": "stream",
     "text": [
      "8.23 ms ± 39.8 µs per loop (mean ± std. dev. of 7 runs, 100 loops each)\n"
     ]
    }
   ],
   "source": [
    "%timeit estimate_pi(1_000_000)"
   ]
  },
  {
   "cell_type": "markdown",
   "metadata": {
    "slideshow": {
     "slide_type": "slide"
    }
   },
   "source": [
    "## What does numba *not* do? : Choose wisely!\n",
    "* Magically make individual numpy functions faster, or speed up code that just has nice array operations\n",
    "* Convert aribitrary python data types\n",
    "* Translate entire programs\n",
    "* Compile third party libraries\n",
    "* Numba cannot help speed up algorithms that are not primarily numerical"
   ]
  },
  {
   "cell_type": "markdown",
   "metadata": {
    "slideshow": {
     "slide_type": "fragment"
    }
   },
   "source": [
    "> @njit stands for @jit(nopython=True) and it means that numba should throw an exception instead of falling back to the python version, in cases where it cannot generate the optimized version."
   ]
  }
 ],
 "metadata": {
  "celltoolbar": "Slideshow",
  "kernelspec": {
   "display_name": "Python 3 (ipykernel)",
   "language": "python",
   "name": "python3"
  },
  "language_info": {
   "codemirror_mode": {
    "name": "ipython",
    "version": 3
   },
   "file_extension": ".py",
   "mimetype": "text/x-python",
   "name": "python",
   "nbconvert_exporter": "python",
   "pygments_lexer": "ipython3",
   "version": "3.11.4"
  },
  "rise": {
   "scroll": true
  },
  "toc": {
   "base_numbering": 1,
   "nav_menu": {},
   "number_sections": true,
   "sideBar": true,
   "skip_h1_title": false,
   "title_cell": "Table of Contents",
   "title_sidebar": "Contents",
   "toc_cell": false,
   "toc_position": {},
   "toc_section_display": true,
   "toc_window_display": false
  }
 },
 "nbformat": 4,
 "nbformat_minor": 4
}
