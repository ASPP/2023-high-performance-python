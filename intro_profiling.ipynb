{
 "cells": [
  {
   "cell_type": "markdown",
   "id": "83f0cd9d",
   "metadata": {
    "slideshow": {
     "slide_type": "slide"
    }
   },
   "source": [
    "# High performance Python 🚀\n",
    "### Zbyszek, Seetha, & Jakob\n",
    "### ASPP LatAm 2023, CDMX, Mexico\n",
    "\n",
    "fork and clone the respository now please! :)"
   ]
  },
  {
   "cell_type": "markdown",
   "id": "2089e7e0",
   "metadata": {
    "slideshow": {
     "slide_type": "slide"
    }
   },
   "source": [
    "## Outline\n",
    "\n",
    "* Introduction\n",
    "* Analyze what makes your code slow with **profiling** (Jakob)\n",
    "* Speed & *convenience* with **Numba** (Seetha)\n",
    "* Speed & *flexibility* with **Cython** (Zbyszek)\n",
    "* Outroduction"
   ]
  },
  {
   "cell_type": "markdown",
   "id": "30cd66fd",
   "metadata": {
    "slideshow": {
     "slide_type": "slide"
    }
   },
   "source": [
    "## Introduction\n",
    "\n",
    "* By now you are the *Master of Research*(TM).\n",
    "![Master of research](figures/mor.png)\n",
    "* Using your new skills you can confidently transform any idea into a great manuscript!"
   ]
  },
  {
   "cell_type": "markdown",
   "id": "69d8bae0",
   "metadata": {
    "slideshow": {
     "slide_type": "fragment"
    }
   },
   "source": [
    "* It seems like the only thing that's holding you back is the **execution speed** of your scripts!\n",
    "* Both Cython and Numba are tools to make your code faster -> **optimization**."
   ]
  },
  {
   "cell_type": "markdown",
   "id": "ed68ad80",
   "metadata": {
    "slideshow": {
     "slide_type": "slide"
    }
   },
   "source": [
    "## Exercise\n",
    "\n",
    "Who thinks that they would benefit from faster code?\n",
    "\n",
    "Please raise your hand."
   ]
  },
  {
   "cell_type": "markdown",
   "id": "50b08d72",
   "metadata": {
    "slideshow": {
     "slide_type": "fragment"
    }
   },
   "source": [
    "Who has spent countless hours fiddeling with code to make it faster for questionable benefits?\n",
    "\n",
    "Please raise your hand."
   ]
  },
  {
   "cell_type": "markdown",
   "id": "5aace232",
   "metadata": {
    "slideshow": {
     "slide_type": "slide"
    }
   },
   "source": [
    "## The three rules of optimization\n",
    "(adapted from Sebastian Witowski, EuroPython 2016)"
   ]
  },
  {
   "cell_type": "markdown",
   "id": "93e91691",
   "metadata": {
    "slideshow": {
     "slide_type": "fragment"
    }
   },
   "source": [
    "#### 1. Don't.\n",
    "- Likely you don't need it.\n",
    "- Optimization comes with costs."
   ]
  },
  {
   "cell_type": "markdown",
   "id": "50aae937",
   "metadata": {
    "slideshow": {
     "slide_type": "notes"
    }
   },
   "source": [
    "## Exercise\n",
    "\n",
    "What are costs associated with optimization?"
   ]
  },
  {
   "cell_type": "markdown",
   "id": "6f8d8c87",
   "metadata": {
    "slideshow": {
     "slide_type": "fragment"
    }
   },
   "source": [
    "#### 2. Don't yet.\n",
    "- Is your code finished?\n",
    "- Did you write tests?\n",
    "- Are you sure it's worth the investment?"
   ]
  },
  {
   "cell_type": "markdown",
   "id": "e98dca3b",
   "metadata": {
    "slideshow": {
     "slide_type": "fragment"
    }
   },
   "source": [
    "#### 3. Profile\n",
    "- Collect data - don't guess which part of your code you should optimize!"
   ]
  },
  {
   "cell_type": "markdown",
   "id": "8c28f284",
   "metadata": {
    "slideshow": {
     "slide_type": "slide"
    }
   },
   "source": [
    "## Collect basic data\n",
    "- while optimizing it's a good idea to keep track of the total runtime of your script\n",
    "- even though modern profilers introduce little overhead this makes sure that your code changes translate into actual speedups\n",
    "- the simplest way to do this is via `time` (or the equivalent on your OS), e.g., `time python myscript.py`\n",
    "  - you're typically interested in \"user time\""
   ]
  },
  {
   "cell_type": "markdown",
   "id": "06c423f1",
   "metadata": {
    "slideshow": {
     "slide_type": "slide"
    }
   },
   "source": [
    "## Collect fine grained data\n",
    "\n",
    "- **profilers** monitor the execution of your script, record statistics, and thus can **provide an understanding of the performance characteristics of your code**\n",
    "- here we consider [py-spy](https://github.com/benfred/py-spy), a sampling-based runtime profiler for Python\n",
    "  - simply speaking `py-spy` examines your program at regular intervals and records which function (or rather line) is currently being executed\n",
    "- it does not require any modification of your code!\n",
    "![sampling](./figures/sampling.svg)"
   ]
  },
  {
   "cell_type": "markdown",
   "id": "98db228b",
   "metadata": {
    "slideshow": {
     "slide_type": "slide"
    }
   },
   "source": [
    "## Using `py-spy`\n",
    "- you can simply profile your script with `py-spy record -o profile.svg python myprogram.py`\n",
    "  - to make timings accurate it needs to collect enough of data; you can control the \"sampling rate\" using the `-r` argument\n",
    "  - get more info on arguments with `-h`\n",
    "- `py-spy` will will produce a \"flamegraph\" like the following (here `profile.svg`; you can open it with, e.g., firefox)\n",
    "![flamegraph](./figures/flamegraph.svg)"
   ]
  },
  {
   "cell_type": "markdown",
   "id": "455e7a93",
   "metadata": {
    "slideshow": {
     "slide_type": "slide"
    }
   },
   "source": [
    "## Demo\n",
    "\n",
    "Using a simple script, Jakob will explain how to read flamegraphs."
   ]
  },
  {
   "cell_type": "markdown",
   "id": "c2be7bf8",
   "metadata": {
    "slideshow": {
     "slide_type": "notes"
    }
   },
   "source": [
    "1. show code\n",
    "2. draw call graph on the whiteboard\n",
    "3. execute py-spy\n",
    "4. students should analyze flamegraph"
   ]
  },
  {
   "cell_type": "markdown",
   "id": "7ccf6384",
   "metadata": {
    "slideshow": {
     "slide_type": "slide"
    }
   },
   "source": [
    "## Exercise\n",
    "\n",
    "It's time to put theory into practice. We have prepared an example script (see [./profiling/numerical_integration.py](./profiling/numerical_integration.py)) which numerically computes the integral of a function and measures the error with respect to analytical integration.\n",
    "\n",
    "0. Fork & clone this repository.\n",
    "1. Familarize yourself with the script and exectute it (`python numerical_integration.py -h` for some help).\n",
    "2. Use the workflow (_time -> py-spy -> edit_, and repeat) to reduce the script's execution time. **Make sure not to break the tests.**\n",
    "3. Commit your changes in a new branch and create a PR. Include the duration before/after optimization in the PR message.\n",
    "\n",
    "#### Hints\n",
    "- plateaus indicate optimization opportunities\n",
    "- focus on your code, for now, ignore time spent in other libraries\n",
    "\n",
    "Afterwards we will discuss the results jointly."
   ]
  },
  {
   "cell_type": "markdown",
   "id": "ba8dbb4f",
   "metadata": {
    "slideshow": {
     "slide_type": "slide"
    }
   },
   "source": [
    "## Refresher: numerical integration\n",
    "\n",
    "![RiemannSum](figures/MidRiemann2.svg)\n",
    "\n",
    "Riemann sum: $\\int_a^b dx f(x) \\approx \\sum_{i = 0}^{n - 1} f(a + (i + 0.5) \\Delta x) \\Delta x$ with $\\Delta x = (b - a)/n$\n",
    "\n",
    "here $a=0, b=2, n=4$"
   ]
  },
  {
   "cell_type": "markdown",
   "id": "be8cb0af",
   "metadata": {
    "slideshow": {
     "slide_type": "slide"
    }
   },
   "source": [
    "## Exercise discussion\n",
    "\n",
    "What did we learn?\n",
    "- ..."
   ]
  },
  {
   "cell_type": "markdown",
   "id": "e51e2b5a",
   "metadata": {
    "slideshow": {
     "slide_type": "slide"
    }
   },
   "source": [
    "## Profiling conclusion\n",
    "\n",
    "- Before optimizing, first finish your code & write tests!\n",
    "- Then *measure* to find functions(/lines) that take up most of the time.\n",
    "- Only optimize the relevant functions(/lines), measure again, and *know when to stop*!\n",
    "  - 1min script you run 5 times\n",
    "  - 8h script you run 1000 times\n",
    "- To gain some basic data, you can use builtin tools\n",
    "  - `time` (commandline)\n",
    "  - `%timeit` (ipython, jupyter)\n",
    "  - `import timeit; timeit.time('some_func()')` (requires code changes)\n",
    "- profilers collect more fine grained data"
   ]
  },
  {
   "cell_type": "markdown",
   "id": "25e0cb0f",
   "metadata": {
    "slideshow": {
     "slide_type": "slide"
    }
   },
   "source": [
    "## Beyond `py-spy`\n",
    "- [py-spy](https://github.com/benfred/py-spy) is just one of many profilers; alternatives include\n",
    "  - [cProfile](https://docs.python.org/3/library/profile.html) (builtin!) + [snakeviz](https://github.com/jiffyclub/snakeviz)\n",
    "  - [pyinstrument](https://github.com/joerick/pyinstrument)\n",
    "  - [austin](https://github.com/P403n1x87/austin)\n",
    "- Here we focus on profiling *runtime*, but maybe you are limited by *memory*\n",
    "  - [memray](https://github.com/bloomberg/memray)\n",
    " - With modern tools, **profiling is easy! Use it!**"
   ]
  },
  {
   "cell_type": "markdown",
   "id": "e0d8c60c",
   "metadata": {
    "slideshow": {
     "slide_type": "slide"
    }
   },
   "source": [
    "![InhalaExhala](figures/inhala.jpg)"
   ]
  },
  {
   "cell_type": "markdown",
   "id": "d62aa09a",
   "metadata": {
    "slideshow": {
     "slide_type": "slide"
    }
   },
   "source": [
    "### Optimization: what to do (in order of [subjective] increasing complexity)\n",
    "\n",
    "- **Do nothing**\n",
    "- Vectorization (`numpy`!!)\n",
    "- Data structures and algorithms\n",
    "- Memoization / caching\n",
    "- Non-Python libraries (`blas`, `openblas`, `blis`, `atlas`, Intel `mkl`, ...)\n",
    "- Buy better hardware\n",
    "- **Numba**\n",
    "- **Cython** / pythran\n",
    "- **Parallelization** (->tomorrow)\n",
    "- GPUs (`cuda`, `opencl`, `directml`, ...)\n",
    "- Low-level code"
   ]
  }
 ],
 "metadata": {
  "celltoolbar": "Slideshow",
  "kernelspec": {
   "display_name": "Python 3 (ipykernel)",
   "language": "python",
   "name": "python3"
  },
  "language_info": {
   "codemirror_mode": {
    "name": "ipython",
    "version": 3
   },
   "file_extension": ".py",
   "mimetype": "text/x-python",
   "name": "python",
   "nbconvert_exporter": "python",
   "pygments_lexer": "ipython3",
   "version": "3.10.4"
  }
 },
 "nbformat": 4,
 "nbformat_minor": 5
}
