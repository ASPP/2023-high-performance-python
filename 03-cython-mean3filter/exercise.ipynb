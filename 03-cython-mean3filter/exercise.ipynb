{
 "cells": [
  {
   "cell_type": "markdown",
   "metadata": {},
   "source": [
    "## Exercise: use `%%cython -a` to speed up code that uses NumPy"
   ]
  },
  {
   "cell_type": "code",
   "execution_count": null,
   "metadata": {},
   "outputs": [],
   "source": [
    "import numpy as np\n",
    "\n",
    "data = np.random.random(size=10**6)"
   ]
  },
  {
   "cell_type": "code",
   "execution_count": null,
   "metadata": {},
   "outputs": [],
   "source": [
    "def mean3filter(arr):\n",
    "    arr_out = np.empty_like(arr)\n",
    "    \n",
    "    arr_out[0] =  (arr[0] + arr[1]) / 2\n",
    "    for i in range(1, arr.shape[0] - 1):\n",
    "        arr_out[i] = arr[i-1:i+2].sum() / 3\n",
    "    arr_out[-1] = (arr[-2] + arr[-1]) / 2\n",
    "\n",
    "    return arr_out"
   ]
  },
  {
   "cell_type": "code",
   "execution_count": null,
   "metadata": {},
   "outputs": [],
   "source": [
    "%timeit -r 1 mean3filter(data)"
   ]
  },
  {
   "cell_type": "markdown",
   "metadata": {},
   "source": [
    "Create a cythonized mean3filter2() function.\n",
    "The goal is to make it noticably faster than the initial python version.\n",
    "\n",
    "Note: `-r 1` tells `timeit` to only measure the time once (\"one repetition\")."
   ]
  },
  {
   "cell_type": "code",
   "execution_count": null,
   "metadata": {},
   "outputs": [],
   "source": [
    "%%cython\n",
    "import ...\n",
    "\n",
    "def mean3filter_cython(...):\n",
    "    ..."
   ]
  },
  {
   "cell_type": "code",
   "execution_count": null,
   "metadata": {},
   "outputs": [],
   "source": [
    "%timeit -r 1 mean3filter_cython(data)"
   ]
  }
 ],
 "metadata": {
  "kernelspec": {
   "display_name": "Python 3 (ipykernel)",
   "language": "python",
   "name": "python3"
  },
  "language_info": {
   "codemirror_mode": {
    "name": "ipython",
    "version": 3
   },
   "file_extension": ".py",
   "mimetype": "text/x-python",
   "name": "python",
   "nbconvert_exporter": "python",
   "pygments_lexer": "ipython3",
   "version": "3.11.3"
  }
 },
 "nbformat": 4,
 "nbformat_minor": 4
}
